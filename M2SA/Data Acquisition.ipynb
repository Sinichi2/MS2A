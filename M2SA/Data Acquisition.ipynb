{
 "cells": [
  {
   "cell_type": "code",
   "execution_count": 28,
   "metadata": {},
   "outputs": [],
   "source": [
    "from bs4 import BeautifulSoup\n",
    "import requests\n",
    "import pandas as pd"
   ]
  },
  {
   "cell_type": "code",
   "execution_count": 30,
   "metadata": {},
   "outputs": [
    {
     "name": "stdout",
     "output_type": "stream",
     "text": [
      "Infectious Disease: Types, Causes & Treatments\n",
      "Diseases A-Z List\n"
     ]
    }
   ],
   "source": [
    "#URL to scrape\n",
    "urls = ['https://my.clevelandclinic.org/health/diseases/17724-infectious-diseases',\n",
    "        'https://dph.illinois.gov/topics-services/diseases-and-conditions/diseases-a-z-list.html'] \n",
    "\n",
    "\n",
    "for url in urls:\n",
    "        response = requests.get(url)\n",
    "        if response.status_code == 200:\n",
    "                soup = BeautifulSoup(response.text, 'html.parser')\n",
    "                print(soup.title.text)\n",
    "        else:\n",
    "                print(f\"Failed to retrieve {url} \")\n",
    "        response.raise_for_status()\n",
    "        \n"
   ]
  },
  {
   "cell_type": "code",
   "execution_count": null,
   "metadata": {},
   "outputs": [
    {
     "name": "stdout",
     "output_type": "stream",
     "text": [
      "<li class=\"text-brandBlue-500 text-rem14px leading-rem16px border-r border-1 border-gray-500 hover:text-blue-800 hover:transition mr-rem16px\"><a aria-label=\"800.223.2273\" class=\"mr-rem16px\" href=\"tel:800.223.2273\">800.223.2273</a></li>\n"
     ]
    }
   ],
   "source": [
    "soup = BeautifulSoup(page.text, 'html.parser')"
   ]
  },
  {
   "cell_type": "code",
   "execution_count": null,
   "metadata": {},
   "outputs": [],
   "source": []
  },
  {
   "cell_type": "code",
   "execution_count": null,
   "metadata": {},
   "outputs": [],
   "source": []
  }
 ],
 "metadata": {
  "kernelspec": {
   "display_name": "Python 3",
   "language": "python",
   "name": "python3"
  },
  "language_info": {
   "codemirror_mode": {
    "name": "ipython",
    "version": 3
   },
   "file_extension": ".py",
   "mimetype": "text/x-python",
   "name": "python",
   "nbconvert_exporter": "python",
   "pygments_lexer": "ipython3",
   "version": "3.12.4"
  }
 },
 "nbformat": 4,
 "nbformat_minor": 2
}
